{
 "cells": [
  {
   "cell_type": "code",
   "execution_count": 4,
   "metadata": {},
   "outputs": [
    {
     "name": "stdout",
     "output_type": "stream",
     "text": [
      "Requirement already satisfied: kafka-python in c:\\users\\admin\\appdata\\local\\programs\\python\\python310\\lib\\site-packages (2.0.2)\n",
      "Requirement already satisfied: pandas in c:\\users\\admin\\appdata\\local\\programs\\python\\python310\\lib\\site-packages (1.5.0)\n",
      "Collecting pyarrow\n",
      "  Using cached pyarrow-17.0.0-cp310-cp310-win_amd64.whl.metadata (3.4 kB)\n",
      "Requirement already satisfied: python-dateutil>=2.8.1 in c:\\users\\admin\\appdata\\roaming\\python\\python310\\site-packages (from pandas) (2.8.2)\n",
      "Requirement already satisfied: pytz>=2020.1 in c:\\users\\admin\\appdata\\local\\programs\\python\\python310\\lib\\site-packages (from pandas) (2022.4)\n",
      "Requirement already satisfied: numpy>=1.21.0 in c:\\users\\admin\\appdata\\local\\programs\\python\\python310\\lib\\site-packages (from pandas) (1.26.2)\n",
      "Requirement already satisfied: six>=1.5 in c:\\users\\admin\\appdata\\roaming\\python\\python310\\site-packages (from python-dateutil>=2.8.1->pandas) (1.16.0)\n",
      "Using cached pyarrow-17.0.0-cp310-cp310-win_amd64.whl (25.1 MB)\n",
      "Installing collected packages: pyarrow\n",
      "Successfully installed pyarrow-17.0.0\n",
      "Note: you may need to restart the kernel to use updated packages.\n"
     ]
    },
    {
     "name": "stderr",
     "output_type": "stream",
     "text": [
      "\n",
      "[notice] A new release of pip is available: 24.0 -> 24.2\n",
      "[notice] To update, run: python.exe -m pip install --upgrade pip\n"
     ]
    }
   ],
   "source": [
    "pip install kafka-python pandas pyarrow"
   ]
  },
  {
   "cell_type": "code",
   "execution_count": 1,
   "metadata": {},
   "outputs": [
    {
     "name": "stdout",
     "output_type": "stream",
     "text": [
      "Đã lưu dữ liệu vào data-coin\\price_changes_20240912_204312.parquet\n",
      "Đã lưu dữ liệu vào data-coin\\price_changes_20240912_204312.parquet\n",
      "Đã lưu dữ liệu vào data-coin\\price_changes_20240912_204312.parquet\n",
      "Đã lưu dữ liệu vào data-coin\\price_changes_20240912_204312.parquet\n",
      "Đã lưu dữ liệu vào data-coin\\price_changes_20240912_204312.parquet\n",
      "Đã lưu dữ liệu vào data-coin\\price_changes_20240912_204312.parquet\n",
      "Đã lưu dữ liệu vào data-coin\\price_changes_20240912_204312.parquet\n",
      "Đã lưu dữ liệu vào data-coin\\price_changes_20240912_204312.parquet\n",
      "Đã lưu dữ liệu vào data-coin\\price_changes_20240912_204312.parquet\n",
      "Đã lưu dữ liệu vào data-coin\\price_changes_20240912_204312.parquet\n",
      "Đã lưu dữ liệu vào data-coin\\price_changes_20240912_204312.parquet\n",
      "Đã lưu dữ liệu vào data-coin\\price_changes_20240912_204312.parquet\n",
      "Đã lưu dữ liệu vào data-coin\\price_changes_20240912_204312.parquet\n",
      "Đã lưu dữ liệu vào data-coin\\price_changes_20240912_204312.parquet\n",
      "Đã lưu dữ liệu vào data-coin\\price_changes_20240912_205542.parquet\n",
      "Đã lưu dữ liệu vào data-coin\\price_changes_20240912_205644.parquet\n",
      "Đã lưu dữ liệu vào data-coin\\price_changes_20240912_205749.parquet\n",
      "Đã lưu dữ liệu vào data-coin\\price_changes_20240912_205832.parquet\n",
      "Đã lưu dữ liệu vào data-coin\\price_changes_20240912_205936.parquet\n",
      "Đã lưu dữ liệu vào data-coin\\price_changes_20240912_210036.parquet\n",
      "Đã lưu dữ liệu vào data-coin\\price_changes_20240912_210127.parquet\n",
      "Đã lưu dữ liệu vào data-coin\\price_changes_20240912_210233.parquet\n",
      "Đã lưu dữ liệu vào data-coin\\price_changes_20240912_210328.parquet\n",
      "Đã lưu dữ liệu vào data-coin\\price_changes_20240912_210429.parquet\n",
      "Đã lưu dữ liệu vào data-coin\\price_changes_20240912_210544.parquet\n",
      "Đã lưu dữ liệu vào data-coin\\price_changes_20240912_210626.parquet\n",
      "Đã lưu dữ liệu vào data-coin\\price_changes_20240912_210736.parquet\n",
      "Đã lưu dữ liệu vào data-coin\\price_changes_20240912_210830.parquet\n"
     ]
    }
   ],
   "source": [
    "from kafka import KafkaConsumer\n",
    "import pandas as pd\n",
    "import pyarrow as pa\n",
    "import pyarrow.parquet as pq\n",
    "from datetime import datetime\n",
    "import os\n",
    "\n",
    "consumer = KafkaConsumer(\n",
    "    'bitcoin-price-topic',          \n",
    "    bootstrap_servers=['localhost:9092'], \n",
    "    auto_offset_reset='earliest',  \n",
    "    enable_auto_commit=True,\n",
    "    group_id='price-changes-group',  \n",
    "    value_deserializer=lambda x: eval(x.decode('utf-8'))  \n",
    ")\n",
    "\n",
    "data_list = []\n",
    "\n",
    "output_dir = \"data-coin\"\n",
    "\n",
    "os.makedirs(output_dir, exist_ok=True)\n",
    "\n",
    "for message in consumer:\n",
    "    message_value = message.value\n",
    "\n",
    "    data_list.append(message_value)\n",
    "\n",
    "    if len(data_list) >= 5:\n",
    "        df = pd.DataFrame(data_list)\n",
    "        \n",
    "        parquet_file = os.path.join(output_dir, f\"price_changes_{datetime.now().strftime('%Y%m%d_%H%M%S')}.parquet\")\n",
    "\n",
    "        table = pa.Table.from_pandas(df)\n",
    "        pq.write_table(table, parquet_file)\n",
    "\n",
    "        print(f\"Đã lưu dữ liệu vào {parquet_file}\")\n",
    "\n",
    "        data_list.clear()\n"
   ]
  },
  {
   "cell_type": "code",
   "execution_count": null,
   "metadata": {},
   "outputs": [],
   "source": []
  }
 ],
 "metadata": {
  "kernelspec": {
   "display_name": "Python 3",
   "language": "python",
   "name": "python3"
  },
  "language_info": {
   "codemirror_mode": {
    "name": "ipython",
    "version": 3
   },
   "file_extension": ".py",
   "mimetype": "text/x-python",
   "name": "python",
   "nbconvert_exporter": "python",
   "pygments_lexer": "ipython3",
   "version": "3.10.5"
  }
 },
 "nbformat": 4,
 "nbformat_minor": 2
}
